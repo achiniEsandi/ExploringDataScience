{
 "cells": [
  {
   "cell_type": "code",
   "execution_count": 1,
   "id": "c7736fc8-356a-497d-baf2-cc2abd689062",
   "metadata": {},
   "outputs": [],
   "source": [
    "import pandas as pd\n",
    "import numpy as np\n",
    "from matplotlib import pyplot as plt"
   ]
  },
  {
   "cell_type": "code",
   "execution_count": 2,
   "id": "961f815b-25cd-49fd-85b5-f3ce6f506e3a",
   "metadata": {},
   "outputs": [],
   "source": [
    "loan_data = pd.read_csv('loan.csv')"
   ]
  },
  {
   "cell_type": "code",
   "execution_count": 3,
   "id": "7d37da21-818a-4e00-9464-822a1dba2556",
   "metadata": {},
   "outputs": [
    {
     "data": {
      "text/html": [
       "<div>\n",
       "<style scoped>\n",
       "    .dataframe tbody tr th:only-of-type {\n",
       "        vertical-align: middle;\n",
       "    }\n",
       "\n",
       "    .dataframe tbody tr th {\n",
       "        vertical-align: top;\n",
       "    }\n",
       "\n",
       "    .dataframe thead th {\n",
       "        text-align: right;\n",
       "    }\n",
       "</style>\n",
       "<table border=\"1\" class=\"dataframe\">\n",
       "  <thead>\n",
       "    <tr style=\"text-align: right;\">\n",
       "      <th></th>\n",
       "      <th>id</th>\n",
       "      <th>member_id</th>\n",
       "      <th>loan_amnt</th>\n",
       "      <th>funded_amnt</th>\n",
       "      <th>funded_amnt_inv</th>\n",
       "      <th>term</th>\n",
       "      <th>int_rate</th>\n",
       "      <th>installment</th>\n",
       "      <th>grade</th>\n",
       "      <th>sub_grade</th>\n",
       "      <th>...</th>\n",
       "      <th>hardship_payoff_balance_amount</th>\n",
       "      <th>hardship_last_payment_amount</th>\n",
       "      <th>disbursement_method</th>\n",
       "      <th>debt_settlement_flag</th>\n",
       "      <th>debt_settlement_flag_date</th>\n",
       "      <th>settlement_status</th>\n",
       "      <th>settlement_date</th>\n",
       "      <th>settlement_amount</th>\n",
       "      <th>settlement_percentage</th>\n",
       "      <th>settlement_term</th>\n",
       "    </tr>\n",
       "  </thead>\n",
       "  <tbody>\n",
       "    <tr>\n",
       "      <th>0</th>\n",
       "      <td>NaN</td>\n",
       "      <td>NaN</td>\n",
       "      <td>2500</td>\n",
       "      <td>2500</td>\n",
       "      <td>2500</td>\n",
       "      <td>36 months</td>\n",
       "      <td>13.56</td>\n",
       "      <td>84.92</td>\n",
       "      <td>C</td>\n",
       "      <td>C1</td>\n",
       "      <td>...</td>\n",
       "      <td>NaN</td>\n",
       "      <td>NaN</td>\n",
       "      <td>Cash</td>\n",
       "      <td>N</td>\n",
       "      <td>NaN</td>\n",
       "      <td>NaN</td>\n",
       "      <td>NaN</td>\n",
       "      <td>NaN</td>\n",
       "      <td>NaN</td>\n",
       "      <td>NaN</td>\n",
       "    </tr>\n",
       "    <tr>\n",
       "      <th>1</th>\n",
       "      <td>NaN</td>\n",
       "      <td>NaN</td>\n",
       "      <td>30000</td>\n",
       "      <td>30000</td>\n",
       "      <td>30000</td>\n",
       "      <td>60 months</td>\n",
       "      <td>18.94</td>\n",
       "      <td>777.23</td>\n",
       "      <td>D</td>\n",
       "      <td>D2</td>\n",
       "      <td>...</td>\n",
       "      <td>NaN</td>\n",
       "      <td>NaN</td>\n",
       "      <td>Cash</td>\n",
       "      <td>N</td>\n",
       "      <td>NaN</td>\n",
       "      <td>NaN</td>\n",
       "      <td>NaN</td>\n",
       "      <td>NaN</td>\n",
       "      <td>NaN</td>\n",
       "      <td>NaN</td>\n",
       "    </tr>\n",
       "    <tr>\n",
       "      <th>2</th>\n",
       "      <td>NaN</td>\n",
       "      <td>NaN</td>\n",
       "      <td>5000</td>\n",
       "      <td>5000</td>\n",
       "      <td>5000</td>\n",
       "      <td>36 months</td>\n",
       "      <td>17.97</td>\n",
       "      <td>180.69</td>\n",
       "      <td>D</td>\n",
       "      <td>D1</td>\n",
       "      <td>...</td>\n",
       "      <td>NaN</td>\n",
       "      <td>NaN</td>\n",
       "      <td>Cash</td>\n",
       "      <td>N</td>\n",
       "      <td>NaN</td>\n",
       "      <td>NaN</td>\n",
       "      <td>NaN</td>\n",
       "      <td>NaN</td>\n",
       "      <td>NaN</td>\n",
       "      <td>NaN</td>\n",
       "    </tr>\n",
       "    <tr>\n",
       "      <th>3</th>\n",
       "      <td>NaN</td>\n",
       "      <td>NaN</td>\n",
       "      <td>4000</td>\n",
       "      <td>4000</td>\n",
       "      <td>4000</td>\n",
       "      <td>36 months</td>\n",
       "      <td>18.94</td>\n",
       "      <td>146.51</td>\n",
       "      <td>D</td>\n",
       "      <td>D2</td>\n",
       "      <td>...</td>\n",
       "      <td>NaN</td>\n",
       "      <td>NaN</td>\n",
       "      <td>Cash</td>\n",
       "      <td>N</td>\n",
       "      <td>NaN</td>\n",
       "      <td>NaN</td>\n",
       "      <td>NaN</td>\n",
       "      <td>NaN</td>\n",
       "      <td>NaN</td>\n",
       "      <td>NaN</td>\n",
       "    </tr>\n",
       "    <tr>\n",
       "      <th>4</th>\n",
       "      <td>NaN</td>\n",
       "      <td>NaN</td>\n",
       "      <td>30000</td>\n",
       "      <td>30000</td>\n",
       "      <td>30000</td>\n",
       "      <td>60 months</td>\n",
       "      <td>16.14</td>\n",
       "      <td>731.78</td>\n",
       "      <td>C</td>\n",
       "      <td>C4</td>\n",
       "      <td>...</td>\n",
       "      <td>NaN</td>\n",
       "      <td>NaN</td>\n",
       "      <td>Cash</td>\n",
       "      <td>N</td>\n",
       "      <td>NaN</td>\n",
       "      <td>NaN</td>\n",
       "      <td>NaN</td>\n",
       "      <td>NaN</td>\n",
       "      <td>NaN</td>\n",
       "      <td>NaN</td>\n",
       "    </tr>\n",
       "  </tbody>\n",
       "</table>\n",
       "<p>5 rows × 142 columns</p>\n",
       "</div>"
      ],
      "text/plain": [
       "   id  member_id  loan_amnt  funded_amnt  funded_amnt_inv        term  \\\n",
       "0 NaN        NaN       2500         2500             2500   36 months   \n",
       "1 NaN        NaN      30000        30000            30000   60 months   \n",
       "2 NaN        NaN       5000         5000             5000   36 months   \n",
       "3 NaN        NaN       4000         4000             4000   36 months   \n",
       "4 NaN        NaN      30000        30000            30000   60 months   \n",
       "\n",
       "   int_rate  installment grade sub_grade  ... hardship_payoff_balance_amount  \\\n",
       "0     13.56        84.92     C        C1  ...                            NaN   \n",
       "1     18.94       777.23     D        D2  ...                            NaN   \n",
       "2     17.97       180.69     D        D1  ...                            NaN   \n",
       "3     18.94       146.51     D        D2  ...                            NaN   \n",
       "4     16.14       731.78     C        C4  ...                            NaN   \n",
       "\n",
       "  hardship_last_payment_amount disbursement_method  debt_settlement_flag  \\\n",
       "0                          NaN                Cash                     N   \n",
       "1                          NaN                Cash                     N   \n",
       "2                          NaN                Cash                     N   \n",
       "3                          NaN                Cash                     N   \n",
       "4                          NaN                Cash                     N   \n",
       "\n",
       "  debt_settlement_flag_date settlement_status settlement_date  \\\n",
       "0                       NaN               NaN             NaN   \n",
       "1                       NaN               NaN             NaN   \n",
       "2                       NaN               NaN             NaN   \n",
       "3                       NaN               NaN             NaN   \n",
       "4                       NaN               NaN             NaN   \n",
       "\n",
       "  settlement_amount  settlement_percentage  settlement_term  \n",
       "0               NaN                    NaN              NaN  \n",
       "1               NaN                    NaN              NaN  \n",
       "2               NaN                    NaN              NaN  \n",
       "3               NaN                    NaN              NaN  \n",
       "4               NaN                    NaN              NaN  \n",
       "\n",
       "[5 rows x 142 columns]"
      ]
     },
     "execution_count": 3,
     "metadata": {},
     "output_type": "execute_result"
    }
   ],
   "source": [
    "loan_data.head()"
   ]
  },
  {
   "cell_type": "code",
   "execution_count": 4,
   "id": "1e1bfe72-c447-4719-a9e4-951c5537438c",
   "metadata": {},
   "outputs": [
    {
     "data": {
      "text/plain": [
       "(20000, 142)"
      ]
     },
     "execution_count": 4,
     "metadata": {},
     "output_type": "execute_result"
    }
   ],
   "source": [
    "loan_data.shape"
   ]
  },
  {
   "cell_type": "code",
   "execution_count": 5,
   "id": "1d8fcebe-c65e-48a1-b1a3-8a120d4128e4",
   "metadata": {},
   "outputs": [
    {
     "data": {
      "text/plain": [
       "id                       float64\n",
       "member_id                float64\n",
       "loan_amnt                  int64\n",
       "funded_amnt                int64\n",
       "funded_amnt_inv            int64\n",
       "                          ...   \n",
       "settlement_status        float64\n",
       "settlement_date          float64\n",
       "settlement_amount        float64\n",
       "settlement_percentage    float64\n",
       "settlement_term          float64\n",
       "Length: 142, dtype: object"
      ]
     },
     "execution_count": 5,
     "metadata": {},
     "output_type": "execute_result"
    }
   ],
   "source": [
    "loan_data.dtypes"
   ]
  },
  {
   "cell_type": "code",
   "execution_count": 6,
   "id": "1bbb0598-0667-4c75-ba08-e2f242351c55",
   "metadata": {},
   "outputs": [
    {
     "data": {
      "text/plain": [
       "count    20000.000000\n",
       "mean     16111.383750\n",
       "std      10369.193761\n",
       "min       1000.000000\n",
       "25%       8000.000000\n",
       "50%      14000.000000\n",
       "75%      22000.000000\n",
       "max      40000.000000\n",
       "Name: loan_amnt, dtype: float64"
      ]
     },
     "execution_count": 6,
     "metadata": {},
     "output_type": "execute_result"
    }
   ],
   "source": [
    "loan_data['loan_amnt'].describe()"
   ]
  },
  {
   "cell_type": "code",
   "execution_count": 9,
   "id": "0939c7c8-f378-436f-a5c8-00ef9747a0f7",
   "metadata": {},
   "outputs": [],
   "source": [
    "loan_data= loan_data.drop(['zip_code', 'policy_code', 'application_type', 'last_credit_pull_d', 'verification_status', 'pymnt_plan', 'funded_amnt_inv', 'sub_grade', 'out_prncp', 'out_prncp_inv', 'total_pymnt_inv', 'total_pymnt', 'total_pymnt_inv', 'total_rec_prncp', 'total_rec_int', 'total_rec_late_fee', 'recoveries', 'collection_recovery_fee', 'last_pymnt_d', 'last_pymnt_amnt', 'initial_list_status'], axis =1)"
   ]
  },
  {
   "cell_type": "code",
   "execution_count": 10,
   "id": "42aff0c1-63a4-48f7-8064-7f6cca725dd0",
   "metadata": {},
   "outputs": [
    {
     "data": {
      "text/plain": [
       "(20000, 122)"
      ]
     },
     "execution_count": 10,
     "metadata": {},
     "output_type": "execute_result"
    }
   ],
   "source": [
    "loan_data.shape"
   ]
  },
  {
   "cell_type": "code",
   "execution_count": 11,
   "id": "667fcf1c-ba3b-45c2-9663-0d653ceaa432",
   "metadata": {},
   "outputs": [
    {
     "data": {
      "text/html": [
       "<div>\n",
       "<style scoped>\n",
       "    .dataframe tbody tr th:only-of-type {\n",
       "        vertical-align: middle;\n",
       "    }\n",
       "\n",
       "    .dataframe tbody tr th {\n",
       "        vertical-align: top;\n",
       "    }\n",
       "\n",
       "    .dataframe thead th {\n",
       "        text-align: right;\n",
       "    }\n",
       "</style>\n",
       "<table border=\"1\" class=\"dataframe\">\n",
       "  <thead>\n",
       "    <tr style=\"text-align: right;\">\n",
       "      <th></th>\n",
       "      <th>id</th>\n",
       "      <th>member_id</th>\n",
       "      <th>loan_amnt</th>\n",
       "      <th>funded_amnt</th>\n",
       "      <th>term</th>\n",
       "      <th>int_rate</th>\n",
       "      <th>installment</th>\n",
       "      <th>grade</th>\n",
       "      <th>emp_title</th>\n",
       "      <th>emp_length</th>\n",
       "      <th>...</th>\n",
       "      <th>hardship_payoff_balance_amount</th>\n",
       "      <th>hardship_last_payment_amount</th>\n",
       "      <th>disbursement_method</th>\n",
       "      <th>debt_settlement_flag</th>\n",
       "      <th>debt_settlement_flag_date</th>\n",
       "      <th>settlement_status</th>\n",
       "      <th>settlement_date</th>\n",
       "      <th>settlement_amount</th>\n",
       "      <th>settlement_percentage</th>\n",
       "      <th>settlement_term</th>\n",
       "    </tr>\n",
       "  </thead>\n",
       "  <tbody>\n",
       "    <tr>\n",
       "      <th>0</th>\n",
       "      <td>NaN</td>\n",
       "      <td>NaN</td>\n",
       "      <td>2500</td>\n",
       "      <td>2500</td>\n",
       "      <td>36 months</td>\n",
       "      <td>13.56</td>\n",
       "      <td>84.92</td>\n",
       "      <td>C</td>\n",
       "      <td>Chef</td>\n",
       "      <td>10+ years</td>\n",
       "      <td>...</td>\n",
       "      <td>NaN</td>\n",
       "      <td>NaN</td>\n",
       "      <td>Cash</td>\n",
       "      <td>N</td>\n",
       "      <td>NaN</td>\n",
       "      <td>NaN</td>\n",
       "      <td>NaN</td>\n",
       "      <td>NaN</td>\n",
       "      <td>NaN</td>\n",
       "      <td>NaN</td>\n",
       "    </tr>\n",
       "    <tr>\n",
       "      <th>1</th>\n",
       "      <td>NaN</td>\n",
       "      <td>NaN</td>\n",
       "      <td>30000</td>\n",
       "      <td>30000</td>\n",
       "      <td>60 months</td>\n",
       "      <td>18.94</td>\n",
       "      <td>777.23</td>\n",
       "      <td>D</td>\n",
       "      <td>Postmaster</td>\n",
       "      <td>10+ years</td>\n",
       "      <td>...</td>\n",
       "      <td>NaN</td>\n",
       "      <td>NaN</td>\n",
       "      <td>Cash</td>\n",
       "      <td>N</td>\n",
       "      <td>NaN</td>\n",
       "      <td>NaN</td>\n",
       "      <td>NaN</td>\n",
       "      <td>NaN</td>\n",
       "      <td>NaN</td>\n",
       "      <td>NaN</td>\n",
       "    </tr>\n",
       "    <tr>\n",
       "      <th>2</th>\n",
       "      <td>NaN</td>\n",
       "      <td>NaN</td>\n",
       "      <td>5000</td>\n",
       "      <td>5000</td>\n",
       "      <td>36 months</td>\n",
       "      <td>17.97</td>\n",
       "      <td>180.69</td>\n",
       "      <td>D</td>\n",
       "      <td>Administrative</td>\n",
       "      <td>6 years</td>\n",
       "      <td>...</td>\n",
       "      <td>NaN</td>\n",
       "      <td>NaN</td>\n",
       "      <td>Cash</td>\n",
       "      <td>N</td>\n",
       "      <td>NaN</td>\n",
       "      <td>NaN</td>\n",
       "      <td>NaN</td>\n",
       "      <td>NaN</td>\n",
       "      <td>NaN</td>\n",
       "      <td>NaN</td>\n",
       "    </tr>\n",
       "    <tr>\n",
       "      <th>3</th>\n",
       "      <td>NaN</td>\n",
       "      <td>NaN</td>\n",
       "      <td>4000</td>\n",
       "      <td>4000</td>\n",
       "      <td>36 months</td>\n",
       "      <td>18.94</td>\n",
       "      <td>146.51</td>\n",
       "      <td>D</td>\n",
       "      <td>IT Supervisor</td>\n",
       "      <td>10+ years</td>\n",
       "      <td>...</td>\n",
       "      <td>NaN</td>\n",
       "      <td>NaN</td>\n",
       "      <td>Cash</td>\n",
       "      <td>N</td>\n",
       "      <td>NaN</td>\n",
       "      <td>NaN</td>\n",
       "      <td>NaN</td>\n",
       "      <td>NaN</td>\n",
       "      <td>NaN</td>\n",
       "      <td>NaN</td>\n",
       "    </tr>\n",
       "    <tr>\n",
       "      <th>4</th>\n",
       "      <td>NaN</td>\n",
       "      <td>NaN</td>\n",
       "      <td>30000</td>\n",
       "      <td>30000</td>\n",
       "      <td>60 months</td>\n",
       "      <td>16.14</td>\n",
       "      <td>731.78</td>\n",
       "      <td>C</td>\n",
       "      <td>Mechanic</td>\n",
       "      <td>10+ years</td>\n",
       "      <td>...</td>\n",
       "      <td>NaN</td>\n",
       "      <td>NaN</td>\n",
       "      <td>Cash</td>\n",
       "      <td>N</td>\n",
       "      <td>NaN</td>\n",
       "      <td>NaN</td>\n",
       "      <td>NaN</td>\n",
       "      <td>NaN</td>\n",
       "      <td>NaN</td>\n",
       "      <td>NaN</td>\n",
       "    </tr>\n",
       "  </tbody>\n",
       "</table>\n",
       "<p>5 rows × 122 columns</p>\n",
       "</div>"
      ],
      "text/plain": [
       "   id  member_id  loan_amnt  funded_amnt        term  int_rate  installment  \\\n",
       "0 NaN        NaN       2500         2500   36 months     13.56        84.92   \n",
       "1 NaN        NaN      30000        30000   60 months     18.94       777.23   \n",
       "2 NaN        NaN       5000         5000   36 months     17.97       180.69   \n",
       "3 NaN        NaN       4000         4000   36 months     18.94       146.51   \n",
       "4 NaN        NaN      30000        30000   60 months     16.14       731.78   \n",
       "\n",
       "  grade       emp_title emp_length  ... hardship_payoff_balance_amount  \\\n",
       "0     C            Chef  10+ years  ...                            NaN   \n",
       "1     D     Postmaster   10+ years  ...                            NaN   \n",
       "2     D  Administrative    6 years  ...                            NaN   \n",
       "3     D   IT Supervisor  10+ years  ...                            NaN   \n",
       "4     C        Mechanic  10+ years  ...                            NaN   \n",
       "\n",
       "   hardship_last_payment_amount disbursement_method debt_settlement_flag  \\\n",
       "0                           NaN                Cash                    N   \n",
       "1                           NaN                Cash                    N   \n",
       "2                           NaN                Cash                    N   \n",
       "3                           NaN                Cash                    N   \n",
       "4                           NaN                Cash                    N   \n",
       "\n",
       "   debt_settlement_flag_date  settlement_status settlement_date  \\\n",
       "0                        NaN                NaN             NaN   \n",
       "1                        NaN                NaN             NaN   \n",
       "2                        NaN                NaN             NaN   \n",
       "3                        NaN                NaN             NaN   \n",
       "4                        NaN                NaN             NaN   \n",
       "\n",
       "  settlement_amount settlement_percentage  settlement_term  \n",
       "0               NaN                   NaN              NaN  \n",
       "1               NaN                   NaN              NaN  \n",
       "2               NaN                   NaN              NaN  \n",
       "3               NaN                   NaN              NaN  \n",
       "4               NaN                   NaN              NaN  \n",
       "\n",
       "[5 rows x 122 columns]"
      ]
     },
     "execution_count": 11,
     "metadata": {},
     "output_type": "execute_result"
    }
   ],
   "source": [
    "loan_data.head()"
   ]
  },
  {
   "cell_type": "code",
   "execution_count": 13,
   "id": "cad795ab-1a8e-40bb-aeec-edaffab06cc4",
   "metadata": {},
   "outputs": [
    {
     "name": "stdout",
     "output_type": "stream",
     "text": [
      "Column\t\t\t\t\t Null Values%\n",
      "id\t\t\t\t\t 100.0\n",
      "member_id\t\t\t\t\t 100.0\n",
      "url\t\t\t\t\t 100.0\n",
      "desc\t\t\t\t\t 100.0\n",
      "mths_since_last_delinq\t\t\t\t\t 56.375\n",
      "mths_since_last_record\t\t\t\t\t 88.41\n",
      "mths_since_last_major_derog\t\t\t\t\t 77.47\n",
      "annual_inc_joint\t\t\t\t\t 87.845\n",
      "dti_joint\t\t\t\t\t 87.845\n",
      "verification_status_joint\t\t\t\t\t 89.17\n",
      "mths_since_recent_bc_dlq\t\t\t\t\t 80.36\n",
      "mths_since_recent_revol_delinq\t\t\t\t\t 71.3\n",
      "revol_bal_joint\t\t\t\t\t 87.845\n",
      "sec_app_earliest_cr_line\t\t\t\t\t 87.845\n",
      "sec_app_inq_last_6mths\t\t\t\t\t 87.845\n",
      "sec_app_mort_acc\t\t\t\t\t 87.845\n",
      "sec_app_open_acc\t\t\t\t\t 87.845\n",
      "sec_app_revol_util\t\t\t\t\t 88.0\n",
      "sec_app_open_act_il\t\t\t\t\t 87.845\n",
      "sec_app_num_rev_accts\t\t\t\t\t 87.845\n",
      "sec_app_chargeoff_within_12_mths\t\t\t\t\t 87.845\n",
      "sec_app_collections_12_mths_ex_med\t\t\t\t\t 87.845\n",
      "sec_app_mths_since_last_major_derog\t\t\t\t\t 96.295\n",
      "hardship_type\t\t\t\t\t 100.0\n",
      "hardship_reason\t\t\t\t\t 100.0\n",
      "hardship_status\t\t\t\t\t 100.0\n",
      "deferral_term\t\t\t\t\t 100.0\n",
      "hardship_amount\t\t\t\t\t 100.0\n",
      "hardship_start_date\t\t\t\t\t 100.0\n",
      "hardship_end_date\t\t\t\t\t 100.0\n",
      "payment_plan_start_date\t\t\t\t\t 100.0\n",
      "hardship_length\t\t\t\t\t 100.0\n",
      "hardship_dpd\t\t\t\t\t 100.0\n",
      "hardship_loan_status\t\t\t\t\t 100.0\n",
      "orig_projected_additional_accrued_interest\t\t\t\t\t 100.0\n",
      "hardship_payoff_balance_amount\t\t\t\t\t 100.0\n",
      "hardship_last_payment_amount\t\t\t\t\t 100.0\n",
      "debt_settlement_flag_date\t\t\t\t\t 100.0\n",
      "settlement_status\t\t\t\t\t 100.0\n",
      "settlement_date\t\t\t\t\t 100.0\n",
      "settlement_amount\t\t\t\t\t 100.0\n",
      "settlement_percentage\t\t\t\t\t 100.0\n",
      "settlement_term\t\t\t\t\t 100.0\n",
      "A total of 43 deleted !\n"
     ]
    }
   ],
   "source": [
    "col_num=0\n",
    "TotalObjects = loan_data.shape[0]\n",
    "print (\"Column\\t\\t\\t\\t\\t Null Values%\") \n",
    "for x in loan_data:\n",
    "    nullCount = loan_data[x].isnull().sum(); \n",
    "    nullPercent = nullCount*100 / (TotalObjects) \n",
    "    if nullCount > 0 and nullPercent > 20 :\n",
    "        col_num=col_num+1\n",
    "        loan_data.drop(x, axis=1,inplace=True) \n",
    "        print(str(x)+\"\\t\\t\\t\\t\\t \"+str(nullPercent))\n",
    "print (\"A total of \"+str(col_num)+\" deleted !\")"
   ]
  },
  {
   "cell_type": "code",
   "execution_count": 14,
   "id": "f471d707-d66d-4998-8cc5-82142de854da",
   "metadata": {},
   "outputs": [
    {
     "data": {
      "text/plain": [
       "(20000, 79)"
      ]
     },
     "execution_count": 14,
     "metadata": {},
     "output_type": "execute_result"
    }
   ],
   "source": [
    "loan_data.shape"
   ]
  },
  {
   "cell_type": "code",
   "execution_count": 15,
   "id": "73eccfe0-577d-4560-980c-932bdf5a1c47",
   "metadata": {},
   "outputs": [
    {
     "data": {
      "text/html": [
       "<div>\n",
       "<style scoped>\n",
       "    .dataframe tbody tr th:only-of-type {\n",
       "        vertical-align: middle;\n",
       "    }\n",
       "\n",
       "    .dataframe tbody tr th {\n",
       "        vertical-align: top;\n",
       "    }\n",
       "\n",
       "    .dataframe thead th {\n",
       "        text-align: right;\n",
       "    }\n",
       "</style>\n",
       "<table border=\"1\" class=\"dataframe\">\n",
       "  <thead>\n",
       "    <tr style=\"text-align: right;\">\n",
       "      <th></th>\n",
       "      <th>loan_amnt</th>\n",
       "      <th>funded_amnt</th>\n",
       "      <th>term</th>\n",
       "      <th>int_rate</th>\n",
       "      <th>installment</th>\n",
       "      <th>grade</th>\n",
       "      <th>emp_title</th>\n",
       "      <th>emp_length</th>\n",
       "      <th>home_ownership</th>\n",
       "      <th>annual_inc</th>\n",
       "      <th>...</th>\n",
       "      <th>percent_bc_gt_75</th>\n",
       "      <th>pub_rec_bankruptcies</th>\n",
       "      <th>tax_liens</th>\n",
       "      <th>tot_hi_cred_lim</th>\n",
       "      <th>total_bal_ex_mort</th>\n",
       "      <th>total_bc_limit</th>\n",
       "      <th>total_il_high_credit_limit</th>\n",
       "      <th>hardship_flag</th>\n",
       "      <th>disbursement_method</th>\n",
       "      <th>debt_settlement_flag</th>\n",
       "    </tr>\n",
       "  </thead>\n",
       "  <tbody>\n",
       "    <tr>\n",
       "      <th>0</th>\n",
       "      <td>2500</td>\n",
       "      <td>2500</td>\n",
       "      <td>36 months</td>\n",
       "      <td>13.56</td>\n",
       "      <td>84.92</td>\n",
       "      <td>C</td>\n",
       "      <td>Chef</td>\n",
       "      <td>10+ years</td>\n",
       "      <td>RENT</td>\n",
       "      <td>55000.0</td>\n",
       "      <td>...</td>\n",
       "      <td>0.0</td>\n",
       "      <td>1</td>\n",
       "      <td>0</td>\n",
       "      <td>60124</td>\n",
       "      <td>16901</td>\n",
       "      <td>36500</td>\n",
       "      <td>18124</td>\n",
       "      <td>N</td>\n",
       "      <td>Cash</td>\n",
       "      <td>N</td>\n",
       "    </tr>\n",
       "    <tr>\n",
       "      <th>1</th>\n",
       "      <td>30000</td>\n",
       "      <td>30000</td>\n",
       "      <td>60 months</td>\n",
       "      <td>18.94</td>\n",
       "      <td>777.23</td>\n",
       "      <td>D</td>\n",
       "      <td>Postmaster</td>\n",
       "      <td>10+ years</td>\n",
       "      <td>MORTGAGE</td>\n",
       "      <td>90000.0</td>\n",
       "      <td>...</td>\n",
       "      <td>0.0</td>\n",
       "      <td>1</td>\n",
       "      <td>0</td>\n",
       "      <td>372872</td>\n",
       "      <td>99468</td>\n",
       "      <td>15000</td>\n",
       "      <td>94072</td>\n",
       "      <td>N</td>\n",
       "      <td>Cash</td>\n",
       "      <td>N</td>\n",
       "    </tr>\n",
       "    <tr>\n",
       "      <th>2</th>\n",
       "      <td>5000</td>\n",
       "      <td>5000</td>\n",
       "      <td>36 months</td>\n",
       "      <td>17.97</td>\n",
       "      <td>180.69</td>\n",
       "      <td>D</td>\n",
       "      <td>Administrative</td>\n",
       "      <td>6 years</td>\n",
       "      <td>MORTGAGE</td>\n",
       "      <td>59280.0</td>\n",
       "      <td>...</td>\n",
       "      <td>0.0</td>\n",
       "      <td>0</td>\n",
       "      <td>0</td>\n",
       "      <td>136927</td>\n",
       "      <td>11749</td>\n",
       "      <td>13800</td>\n",
       "      <td>10000</td>\n",
       "      <td>N</td>\n",
       "      <td>Cash</td>\n",
       "      <td>N</td>\n",
       "    </tr>\n",
       "    <tr>\n",
       "      <th>3</th>\n",
       "      <td>4000</td>\n",
       "      <td>4000</td>\n",
       "      <td>36 months</td>\n",
       "      <td>18.94</td>\n",
       "      <td>146.51</td>\n",
       "      <td>D</td>\n",
       "      <td>IT Supervisor</td>\n",
       "      <td>10+ years</td>\n",
       "      <td>MORTGAGE</td>\n",
       "      <td>92000.0</td>\n",
       "      <td>...</td>\n",
       "      <td>100.0</td>\n",
       "      <td>0</td>\n",
       "      <td>0</td>\n",
       "      <td>385183</td>\n",
       "      <td>36151</td>\n",
       "      <td>5000</td>\n",
       "      <td>44984</td>\n",
       "      <td>N</td>\n",
       "      <td>Cash</td>\n",
       "      <td>N</td>\n",
       "    </tr>\n",
       "    <tr>\n",
       "      <th>4</th>\n",
       "      <td>30000</td>\n",
       "      <td>30000</td>\n",
       "      <td>60 months</td>\n",
       "      <td>16.14</td>\n",
       "      <td>731.78</td>\n",
       "      <td>C</td>\n",
       "      <td>Mechanic</td>\n",
       "      <td>10+ years</td>\n",
       "      <td>MORTGAGE</td>\n",
       "      <td>57250.0</td>\n",
       "      <td>...</td>\n",
       "      <td>0.0</td>\n",
       "      <td>0</td>\n",
       "      <td>0</td>\n",
       "      <td>157548</td>\n",
       "      <td>29674</td>\n",
       "      <td>9300</td>\n",
       "      <td>32332</td>\n",
       "      <td>N</td>\n",
       "      <td>Cash</td>\n",
       "      <td>N</td>\n",
       "    </tr>\n",
       "  </tbody>\n",
       "</table>\n",
       "<p>5 rows × 79 columns</p>\n",
       "</div>"
      ],
      "text/plain": [
       "   loan_amnt  funded_amnt        term  int_rate  installment grade  \\\n",
       "0       2500         2500   36 months     13.56        84.92     C   \n",
       "1      30000        30000   60 months     18.94       777.23     D   \n",
       "2       5000         5000   36 months     17.97       180.69     D   \n",
       "3       4000         4000   36 months     18.94       146.51     D   \n",
       "4      30000        30000   60 months     16.14       731.78     C   \n",
       "\n",
       "        emp_title emp_length home_ownership  annual_inc  ... percent_bc_gt_75  \\\n",
       "0            Chef  10+ years           RENT     55000.0  ...              0.0   \n",
       "1     Postmaster   10+ years       MORTGAGE     90000.0  ...              0.0   \n",
       "2  Administrative    6 years       MORTGAGE     59280.0  ...              0.0   \n",
       "3   IT Supervisor  10+ years       MORTGAGE     92000.0  ...            100.0   \n",
       "4        Mechanic  10+ years       MORTGAGE     57250.0  ...              0.0   \n",
       "\n",
       "  pub_rec_bankruptcies tax_liens tot_hi_cred_lim total_bal_ex_mort  \\\n",
       "0                    1         0           60124             16901   \n",
       "1                    1         0          372872             99468   \n",
       "2                    0         0          136927             11749   \n",
       "3                    0         0          385183             36151   \n",
       "4                    0         0          157548             29674   \n",
       "\n",
       "   total_bc_limit  total_il_high_credit_limit hardship_flag  \\\n",
       "0           36500                       18124             N   \n",
       "1           15000                       94072             N   \n",
       "2           13800                       10000             N   \n",
       "3            5000                       44984             N   \n",
       "4            9300                       32332             N   \n",
       "\n",
       "   disbursement_method  debt_settlement_flag  \n",
       "0                 Cash                     N  \n",
       "1                 Cash                     N  \n",
       "2                 Cash                     N  \n",
       "3                 Cash                     N  \n",
       "4                 Cash                     N  \n",
       "\n",
       "[5 rows x 79 columns]"
      ]
     },
     "execution_count": 15,
     "metadata": {},
     "output_type": "execute_result"
    }
   ],
   "source": [
    "loan_data.head()"
   ]
  },
  {
   "cell_type": "code",
   "execution_count": 17,
   "id": "f3b54d62-c800-4d2c-9f91-26fe31dfdb93",
   "metadata": {},
   "outputs": [],
   "source": [
    "loan_data['emp_title'] = loan_data['emp_title'].fillna('Unknown')"
   ]
  },
  {
   "cell_type": "code",
   "execution_count": 19,
   "id": "ed962d36-36a7-461e-a151-30d461b8faa9",
   "metadata": {},
   "outputs": [],
   "source": [
    "loan_data['dti'] = loan_data['dti'].fillna(0)"
   ]
  },
  {
   "cell_type": "code",
   "execution_count": 20,
   "id": "877524f3-8ef6-49e4-95a4-a8866a58841b",
   "metadata": {},
   "outputs": [],
   "source": [
    "loan_data['revol_util'] = loan_data['revol_util'].fillna(loan_data['revol_util'].mean())"
   ]
  },
  {
   "cell_type": "code",
   "execution_count": 21,
   "id": "8c279ded-8ddc-471f-9a9e-d9669135b290",
   "metadata": {},
   "outputs": [],
   "source": [
    "loan_data['next_pymnt_d'] = loan_data['next_pymnt_d'].fillna('Completed')"
   ]
  },
  {
   "cell_type": "code",
   "execution_count": 23,
   "id": "107a0c73-e577-40bd-8a32-a3abd83568ad",
   "metadata": {},
   "outputs": [],
   "source": [
    "# Replace missing values with 0 for specific columns\n",
    "cols_zero = [\n",
    "    'mths_since_rcnt_il',\n",
    "    'mo_sin_old_il_acct',\n",
    "    'bc_open_to_buy',\n",
    "    'num_tl_120dpd_2m',\n",
    "    'bc_util',\n",
    "    'percent_bc_gt_75'\n",
    "]\n",
    "\n",
    "loan_data[cols_zero] = loan_data[cols_zero].fillna(0)"
   ]
  },
  {
   "cell_type": "code",
   "execution_count": 24,
   "id": "06404ee6-8c5f-46c0-a27b-abb14b957ec7",
   "metadata": {},
   "outputs": [],
   "source": [
    "cols_mean = ['all_util','avg_cur_bal']\n",
    "loan_data[cols_mean] = loan_data[cols_mean].fillna(loan_data[cols_mean].mean())"
   ]
  },
  {
   "cell_type": "markdown",
   "id": "69c5eefc-7de6-4893-bc15-abea54d5c58c",
   "metadata": {},
   "source": [
    "# Formatting data"
   ]
  },
  {
   "cell_type": "code",
   "execution_count": 25,
   "id": "33d82844-f8d5-4aab-8371-29084af12a6f",
   "metadata": {},
   "outputs": [
    {
     "data": {
      "text/plain": [
       "array(['10+ years', '6 years', '4 years', '< 1 year', '2 years',\n",
       "       '9 years', nan, '5 years', '3 years', '7 years', '1 year',\n",
       "       '8 years'], dtype=object)"
      ]
     },
     "execution_count": 25,
     "metadata": {},
     "output_type": "execute_result"
    }
   ],
   "source": [
    "pd.unique(loan_data['emp_length'].values)"
   ]
  },
  {
   "cell_type": "code",
   "execution_count": 26,
   "id": "e9f029e9-28be-4f64-818f-34d293331193",
   "metadata": {},
   "outputs": [],
   "source": [
    "def CalculateEmployeeLength(year): \n",
    "    if year == '< 1 year':\n",
    "        return 0.5\n",
    "    elif year == '10+ years': \n",
    "        return 10\n",
    "    else:\n",
    "        yr=str(year)\n",
    "        return yr.rstrip(' years')"
   ]
  },
  {
   "cell_type": "code",
   "execution_count": 27,
   "id": "bd6984f4-9c86-47b9-a383-1236ddbec013",
   "metadata": {},
   "outputs": [],
   "source": [
    "loan_data['emp_length']=loan_data['emp_length'].apply(CalculateEmployeeLength)"
   ]
  },
  {
   "cell_type": "code",
   "execution_count": 28,
   "id": "0a233ef9-0bce-409d-bb94-2905148a8486",
   "metadata": {},
   "outputs": [
    {
     "data": {
      "text/html": [
       "<div>\n",
       "<style scoped>\n",
       "    .dataframe tbody tr th:only-of-type {\n",
       "        vertical-align: middle;\n",
       "    }\n",
       "\n",
       "    .dataframe tbody tr th {\n",
       "        vertical-align: top;\n",
       "    }\n",
       "\n",
       "    .dataframe thead th {\n",
       "        text-align: right;\n",
       "    }\n",
       "</style>\n",
       "<table border=\"1\" class=\"dataframe\">\n",
       "  <thead>\n",
       "    <tr style=\"text-align: right;\">\n",
       "      <th></th>\n",
       "      <th>loan_amnt</th>\n",
       "      <th>funded_amnt</th>\n",
       "      <th>term</th>\n",
       "      <th>int_rate</th>\n",
       "      <th>installment</th>\n",
       "      <th>grade</th>\n",
       "      <th>emp_title</th>\n",
       "      <th>emp_length</th>\n",
       "      <th>home_ownership</th>\n",
       "      <th>annual_inc</th>\n",
       "      <th>...</th>\n",
       "      <th>percent_bc_gt_75</th>\n",
       "      <th>pub_rec_bankruptcies</th>\n",
       "      <th>tax_liens</th>\n",
       "      <th>tot_hi_cred_lim</th>\n",
       "      <th>total_bal_ex_mort</th>\n",
       "      <th>total_bc_limit</th>\n",
       "      <th>total_il_high_credit_limit</th>\n",
       "      <th>hardship_flag</th>\n",
       "      <th>disbursement_method</th>\n",
       "      <th>debt_settlement_flag</th>\n",
       "    </tr>\n",
       "  </thead>\n",
       "  <tbody>\n",
       "    <tr>\n",
       "      <th>0</th>\n",
       "      <td>2500</td>\n",
       "      <td>2500</td>\n",
       "      <td>36 months</td>\n",
       "      <td>13.56</td>\n",
       "      <td>84.92</td>\n",
       "      <td>C</td>\n",
       "      <td>Chef</td>\n",
       "      <td>10</td>\n",
       "      <td>RENT</td>\n",
       "      <td>55000.0</td>\n",
       "      <td>...</td>\n",
       "      <td>0.0</td>\n",
       "      <td>1</td>\n",
       "      <td>0</td>\n",
       "      <td>60124</td>\n",
       "      <td>16901</td>\n",
       "      <td>36500</td>\n",
       "      <td>18124</td>\n",
       "      <td>N</td>\n",
       "      <td>Cash</td>\n",
       "      <td>N</td>\n",
       "    </tr>\n",
       "    <tr>\n",
       "      <th>1</th>\n",
       "      <td>30000</td>\n",
       "      <td>30000</td>\n",
       "      <td>60 months</td>\n",
       "      <td>18.94</td>\n",
       "      <td>777.23</td>\n",
       "      <td>D</td>\n",
       "      <td>Postmaster</td>\n",
       "      <td>10</td>\n",
       "      <td>MORTGAGE</td>\n",
       "      <td>90000.0</td>\n",
       "      <td>...</td>\n",
       "      <td>0.0</td>\n",
       "      <td>1</td>\n",
       "      <td>0</td>\n",
       "      <td>372872</td>\n",
       "      <td>99468</td>\n",
       "      <td>15000</td>\n",
       "      <td>94072</td>\n",
       "      <td>N</td>\n",
       "      <td>Cash</td>\n",
       "      <td>N</td>\n",
       "    </tr>\n",
       "    <tr>\n",
       "      <th>2</th>\n",
       "      <td>5000</td>\n",
       "      <td>5000</td>\n",
       "      <td>36 months</td>\n",
       "      <td>17.97</td>\n",
       "      <td>180.69</td>\n",
       "      <td>D</td>\n",
       "      <td>Administrative</td>\n",
       "      <td>6</td>\n",
       "      <td>MORTGAGE</td>\n",
       "      <td>59280.0</td>\n",
       "      <td>...</td>\n",
       "      <td>0.0</td>\n",
       "      <td>0</td>\n",
       "      <td>0</td>\n",
       "      <td>136927</td>\n",
       "      <td>11749</td>\n",
       "      <td>13800</td>\n",
       "      <td>10000</td>\n",
       "      <td>N</td>\n",
       "      <td>Cash</td>\n",
       "      <td>N</td>\n",
       "    </tr>\n",
       "    <tr>\n",
       "      <th>3</th>\n",
       "      <td>4000</td>\n",
       "      <td>4000</td>\n",
       "      <td>36 months</td>\n",
       "      <td>18.94</td>\n",
       "      <td>146.51</td>\n",
       "      <td>D</td>\n",
       "      <td>IT Supervisor</td>\n",
       "      <td>10</td>\n",
       "      <td>MORTGAGE</td>\n",
       "      <td>92000.0</td>\n",
       "      <td>...</td>\n",
       "      <td>100.0</td>\n",
       "      <td>0</td>\n",
       "      <td>0</td>\n",
       "      <td>385183</td>\n",
       "      <td>36151</td>\n",
       "      <td>5000</td>\n",
       "      <td>44984</td>\n",
       "      <td>N</td>\n",
       "      <td>Cash</td>\n",
       "      <td>N</td>\n",
       "    </tr>\n",
       "    <tr>\n",
       "      <th>4</th>\n",
       "      <td>30000</td>\n",
       "      <td>30000</td>\n",
       "      <td>60 months</td>\n",
       "      <td>16.14</td>\n",
       "      <td>731.78</td>\n",
       "      <td>C</td>\n",
       "      <td>Mechanic</td>\n",
       "      <td>10</td>\n",
       "      <td>MORTGAGE</td>\n",
       "      <td>57250.0</td>\n",
       "      <td>...</td>\n",
       "      <td>0.0</td>\n",
       "      <td>0</td>\n",
       "      <td>0</td>\n",
       "      <td>157548</td>\n",
       "      <td>29674</td>\n",
       "      <td>9300</td>\n",
       "      <td>32332</td>\n",
       "      <td>N</td>\n",
       "      <td>Cash</td>\n",
       "      <td>N</td>\n",
       "    </tr>\n",
       "  </tbody>\n",
       "</table>\n",
       "<p>5 rows × 79 columns</p>\n",
       "</div>"
      ],
      "text/plain": [
       "   loan_amnt  funded_amnt        term  int_rate  installment grade  \\\n",
       "0       2500         2500   36 months     13.56        84.92     C   \n",
       "1      30000        30000   60 months     18.94       777.23     D   \n",
       "2       5000         5000   36 months     17.97       180.69     D   \n",
       "3       4000         4000   36 months     18.94       146.51     D   \n",
       "4      30000        30000   60 months     16.14       731.78     C   \n",
       "\n",
       "        emp_title emp_length home_ownership  annual_inc  ... percent_bc_gt_75  \\\n",
       "0            Chef         10           RENT     55000.0  ...              0.0   \n",
       "1     Postmaster          10       MORTGAGE     90000.0  ...              0.0   \n",
       "2  Administrative          6       MORTGAGE     59280.0  ...              0.0   \n",
       "3   IT Supervisor         10       MORTGAGE     92000.0  ...            100.0   \n",
       "4        Mechanic         10       MORTGAGE     57250.0  ...              0.0   \n",
       "\n",
       "  pub_rec_bankruptcies tax_liens tot_hi_cred_lim total_bal_ex_mort  \\\n",
       "0                    1         0           60124             16901   \n",
       "1                    1         0          372872             99468   \n",
       "2                    0         0          136927             11749   \n",
       "3                    0         0          385183             36151   \n",
       "4                    0         0          157548             29674   \n",
       "\n",
       "   total_bc_limit  total_il_high_credit_limit hardship_flag  \\\n",
       "0           36500                       18124             N   \n",
       "1           15000                       94072             N   \n",
       "2           13800                       10000             N   \n",
       "3            5000                       44984             N   \n",
       "4            9300                       32332             N   \n",
       "\n",
       "   disbursement_method  debt_settlement_flag  \n",
       "0                 Cash                     N  \n",
       "1                 Cash                     N  \n",
       "2                 Cash                     N  \n",
       "3                 Cash                     N  \n",
       "4                 Cash                     N  \n",
       "\n",
       "[5 rows x 79 columns]"
      ]
     },
     "execution_count": 28,
     "metadata": {},
     "output_type": "execute_result"
    }
   ],
   "source": [
    "loan_data.head()"
   ]
  },
  {
   "cell_type": "markdown",
   "id": "42a7ce73-1d96-469f-a9cb-3b996bdb19c1",
   "metadata": {},
   "source": [
    "# Visualizing data"
   ]
  },
  {
   "cell_type": "code",
   "execution_count": 30,
   "id": "4461efad-6542-4d1f-8400-15a91c7788de",
   "metadata": {},
   "outputs": [],
   "source": [
    "def CalculateLoanRanges(value): \n",
    "    if value <= 5000:\n",
    "        return '5K and Below'\n",
    "    if value > 5000 and value <= 10000:\n",
    "        return '5K-10K'\n",
    "    if value > 10000 and value <= 15000:\n",
    "        return '10K-15K'\n",
    "    if value > 15000 and value <= 20000:\n",
    "        return '15K-20K'\n",
    "    if value > 20000 and value <= 25000:\n",
    "        return '20K-25K'\n",
    "    if value > 25000 and value <= 30000:\n",
    "        return '25K-30K' \n",
    "    if value > 30000 :\n",
    "        return '30K and Above'\n",
    "    return 'Other'"
   ]
  },
  {
   "cell_type": "code",
   "execution_count": 31,
   "id": "d82bca2b-5af8-4c1f-865a-d2b31eb35188",
   "metadata": {},
   "outputs": [],
   "source": [
    "loan_ranges = loan_data['loan_amnt'].apply(CalculateLoanRanges)"
   ]
  },
  {
   "cell_type": "code",
   "execution_count": 32,
   "id": "cf0e04c8-1f23-4d70-9e45-17c53a3f33cf",
   "metadata": {},
   "outputs": [
    {
     "data": {
      "text/plain": [
       "loan_amnt\n",
       "5K-10K           5063\n",
       "10K-15K          3472\n",
       "15K-20K          3118\n",
       "5K and Below     2898\n",
       "30K and Above    2268\n",
       "20K-25K          1834\n",
       "25K-30K          1347\n",
       "Name: count, dtype: int64"
      ]
     },
     "execution_count": 32,
     "metadata": {},
     "output_type": "execute_result"
    }
   ],
   "source": [
    "loan_ranges.value_counts()"
   ]
  },
  {
   "cell_type": "code",
   "execution_count": 33,
   "id": "e9824b6b-e781-4c72-a829-560162df483d",
   "metadata": {},
   "outputs": [
    {
     "data": {
      "text/plain": [
       "Text(0.5, 1.0, 'Pie Chart of Loan Amount')"
      ]
     },
     "execution_count": 33,
     "metadata": {},
     "output_type": "execute_result"
    },
    {
     "data": {
      "image/png": "[encoded data removed]",
      "text/plain": [
       "<Figure size 640x480 with 1 Axes>"
      ]
     },
     "metadata": {},
     "output_type": "display_data"
    }
   ],
   "source": [
    "f = plt.figure() \n",
    "loan_ranges.value_counts().plot.pie(autopct='%1.0f%%',) \n",
    "plt.title('Pie Chart of Loan Amount')"
   ]
  },
  {
   "cell_type": "code",
   "execution_count": 34,
   "id": "6bfc845d-296c-421d-8196-038246367bd4",
   "metadata": {},
   "outputs": [
    {
     "data": {
      "text/plain": [
       "<Axes: xlabel='purpose'>"
      ]
     },
     "execution_count": 34,
     "metadata": {},
     "output_type": "execute_result"
    },
    {
     "data": {
      "image/png": "[encoded data removed]",
      "text/plain": [
       "<Figure size 640x480 with 1 Axes>"
      ]
     },
     "metadata": {},
     "output_type": "display_data"
    }
   ],
   "source": [
    "pur = loan_data['purpose'].value_counts() \n",
    "pur.plot(kind='bar')"
   ]
  },
  {
   "cell_type": "code",
   "execution_count": 35,
   "id": "ea1a0d13-ef24-469e-a6cd-6ebc2425be6c",
   "metadata": {},
   "outputs": [],
   "source": [
    "loan_data.to_csv('cleaned_loans2007.csv', index=False,encoding='utf-8')"
   ]
  },
  {
   "cell_type": "markdown",
   "id": "18844747-f06d-40e6-b535-42f2ed89c185",
   "metadata": {},
   "source": [
    "# Activity 2"
   ]
  },
  {
   "cell_type": "markdown",
   "id": "f9eca98d-d574-4ebd-b033-745789b9ea70",
   "metadata": {},
   "source": [
    "How to Detect and Remove Outliers\n",
    "Step-1: Importing Necessary Dependencies and load the dataset"
   ]
  },
  {
   "cell_type": "code",
   "execution_count": 36,
   "id": "2bda85cc-9c32-4520-a764-2b2b3b19a629",
   "metadata": {},
   "outputs": [],
   "source": [
    "import pandas as pd\n",
    "import matplotlib.pyplot as plt\n",
    "import seaborn as sns\n",
    "import numpy as np"
   ]
  },
  {
   "cell_type": "code",
   "execution_count": 37,
   "id": "23d75735-2d0b-491d-9414-a0a33f2b262e",
   "metadata": {},
   "outputs": [],
   "source": [
    "df_boston = pd.read_csv('Airdata.csv')"
   ]
  },
  {
   "cell_type": "markdown",
   "id": "757e3330-3d3f-43bd-ab02-fa41bf8e1560",
   "metadata": {},
   "source": [
    "Step-2: Show a preview of the dataset"
   ]
  },
  {
   "cell_type": "code",
   "execution_count": 38,
   "id": "a3ed4ce2-7b2e-4ae7-9a2b-9ae933669579",
   "metadata": {},
   "outputs": [
    {
     "data": {
      "text/html": [
       "<div>\n",
       "<style scoped>\n",
       "    .dataframe tbody tr th:only-of-type {\n",
       "        vertical-align: middle;\n",
       "    }\n",
       "\n",
       "    .dataframe tbody tr th {\n",
       "        vertical-align: top;\n",
       "    }\n",
       "\n",
       "    .dataframe thead th {\n",
       "        text-align: right;\n",
       "    }\n",
       "</style>\n",
       "<table border=\"1\" class=\"dataframe\">\n",
       "  <thead>\n",
       "    <tr style=\"text-align: right;\">\n",
       "      <th></th>\n",
       "      <th>DateTime</th>\n",
       "      <th>Temperature</th>\n",
       "      <th>Humidity</th>\n",
       "      <th>Wind_Speed</th>\n",
       "      <th>Wind_Direction</th>\n",
       "      <th>NO2_Location_A</th>\n",
       "      <th>NO2_Location_B</th>\n",
       "      <th>NO2_Location_C</th>\n",
       "    </tr>\n",
       "  </thead>\n",
       "  <tbody>\n",
       "    <tr>\n",
       "      <th>0</th>\n",
       "      <td>1/1/2020 0:00</td>\n",
       "      <td>2.180529</td>\n",
       "      <td>87</td>\n",
       "      <td>1.484318</td>\n",
       "      <td>75.963760</td>\n",
       "      <td>39.23</td>\n",
       "      <td>52.88</td>\n",
       "      <td>62.37</td>\n",
       "    </tr>\n",
       "    <tr>\n",
       "      <th>1</th>\n",
       "      <td>1/1/2020 1:00</td>\n",
       "      <td>1.490529</td>\n",
       "      <td>89</td>\n",
       "      <td>2.741678</td>\n",
       "      <td>113.198590</td>\n",
       "      <td>38.30</td>\n",
       "      <td>44.95</td>\n",
       "      <td>52.53</td>\n",
       "    </tr>\n",
       "    <tr>\n",
       "      <th>2</th>\n",
       "      <td>1/1/2020 2:00</td>\n",
       "      <td>1.690529</td>\n",
       "      <td>85</td>\n",
       "      <td>3.563818</td>\n",
       "      <td>135.000000</td>\n",
       "      <td>NaN</td>\n",
       "      <td>48.40</td>\n",
       "      <td>54.80</td>\n",
       "    </tr>\n",
       "    <tr>\n",
       "      <th>3</th>\n",
       "      <td>1/1/2020 3:00</td>\n",
       "      <td>1.430529</td>\n",
       "      <td>84</td>\n",
       "      <td>2.811690</td>\n",
       "      <td>129.805570</td>\n",
       "      <td>37.28</td>\n",
       "      <td>47.18</td>\n",
       "      <td>50.80</td>\n",
       "    </tr>\n",
       "    <tr>\n",
       "      <th>4</th>\n",
       "      <td>1/1/2020 4:00</td>\n",
       "      <td>0.840529</td>\n",
       "      <td>86</td>\n",
       "      <td>1.800000</td>\n",
       "      <td>126.869896</td>\n",
       "      <td>29.97</td>\n",
       "      <td>41.48</td>\n",
       "      <td>54.43</td>\n",
       "    </tr>\n",
       "  </tbody>\n",
       "</table>\n",
       "</div>"
      ],
      "text/plain": [
       "        DateTime  Temperature  Humidity  Wind_Speed  Wind_Direction  \\\n",
       "0  1/1/2020 0:00     2.180529        87    1.484318       75.963760   \n",
       "1  1/1/2020 1:00     1.490529        89    2.741678      113.198590   \n",
       "2  1/1/2020 2:00     1.690529        85    3.563818      135.000000   \n",
       "3  1/1/2020 3:00     1.430529        84    2.811690      129.805570   \n",
       "4  1/1/2020 4:00     0.840529        86    1.800000      126.869896   \n",
       "\n",
       "   NO2_Location_A  NO2_Location_B  NO2_Location_C  \n",
       "0           39.23           52.88           62.37  \n",
       "1           38.30           44.95           52.53  \n",
       "2             NaN           48.40           54.80  \n",
       "3           37.28           47.18           50.80  \n",
       "4           29.97           41.48           54.43  "
      ]
     },
     "execution_count": 38,
     "metadata": {},
     "output_type": "execute_result"
    }
   ],
   "source": [
    "df_boston.head()"
   ]
  },
  {
   "cell_type": "markdown",
   "id": "ac165361-8c90-4d22-95f4-ad6514e97b81",
   "metadata": {},
   "source": [
    "Step-3: Generate a Box-plot for the NO2_Location_A feature"
   ]
  },
  {
   "cell_type": "code",
   "execution_count": 39,
   "id": "7a78d254-ad46-4c75-9012-d92fd7418393",
   "metadata": {},
   "outputs": [
    {
     "data": {
      "image/png": "[encoded data removed]",
      "text/plain": [
       "<Figure size 640x480 with 1 Axes>"
      ]
     },
     "metadata": {},
     "output_type": "display_data"
    }
   ],
   "source": [
    "sns.boxplot(df_boston['NO2_Location_A'])\n",
    "plt.show()"
   ]
  },
  {
   "cell_type": "markdown",
   "id": "e7775009-48a2-41ea-90a1-a8880e9cd08b",
   "metadata": {},
   "source": [
    "Step-4: Finding the IQR"
   ]
  },
  {
   "cell_type": "code",
   "execution_count": 40,
   "id": "b13a8153-c9bc-4430-8b9b-6ffdad200d95",
   "metadata": {},
   "outputs": [],
   "source": [
    "percentile25 = df_boston['NO2_Location_A'].quantile(0.25)\n",
    "percentile75 = df_boston['NO2_Location_A'].quantile(0.75)\n",
    "iqr = percentile75-percentile25"
   ]
  },
  {
   "cell_type": "markdown",
   "id": "df97f95c-d9d3-4a38-b3fd-265556d86a96",
   "metadata": {},
   "source": [
    "Step-5: Finding upper and lower limit"
   ]
  },
  {
   "cell_type": "code",
   "execution_count": 41,
   "id": "156e6c1c-8597-477b-a947-e65f9f8cb044",
   "metadata": {},
   "outputs": [],
   "source": [
    "upper_limit = percentile75 + (1.5 * iqr)\n",
    "lower_limit = percentile25 - (1.5 * iqr)"
   ]
  },
  {
   "cell_type": "markdown",
   "id": "02d79714-041d-4fc3-bc9f-12f186ef6ee4",
   "metadata": {},
   "source": [
    "Step-6: Capping"
   ]
  },
  {
   "cell_type": "code",
   "execution_count": 42,
   "id": "c45a33cc-bb69-4461-8356-e28b9823abf5",
   "metadata": {},
   "outputs": [],
   "source": [
    "new_df_cap = df_boston.copy()\n",
    "new_df_cap['NO2_Location_A'] = np.where(\n",
    "new_df_cap['NO2_Location_A'] >= upper_limit, upper_limit,\n",
    "np.where(new_df_cap['NO2_Location_A'] <= lower_limit, lower_limit,\n",
    "new_df_cap['NO2_Location_A']\n",
    ")\n",
    ")"
   ]
  },
  {
   "cell_type": "markdown",
   "id": "eac96d2b-91ef-42b9-985e-e1abe35a1c21",
   "metadata": {},
   "source": [
    "Step-7: Draw boxplot after capping"
   ]
  },
  {
   "cell_type": "code",
   "execution_count": 43,
   "id": "fac3f3ad-717e-47cf-b42d-d971afe4025f",
   "metadata": {},
   "outputs": [
    {
     "data": {
      "image/png": "[encoded data removed]",
      "text/plain": [
       "<Figure size 640x480 with 1 Axes>"
      ]
     },
     "metadata": {},
     "output_type": "display_data"
    }
   ],
   "source": [
    "sns.boxplot(new_df_cap['NO2_Location_A'])\n",
    "plt.show()"
   ]
  },
  {
   "cell_type": "markdown",
   "id": "fbda1072-3079-4ada-b306-da3149b00757",
   "metadata": {},
   "source": [
    "# Activity 3"
   ]
  },
  {
   "cell_type": "markdown",
   "id": "6598236c-0b87-4b3e-ad8d-6268a16fa0bc",
   "metadata": {},
   "source": [
    "Categorical Feature Selection using Chi squared Test"
   ]
  },
  {
   "cell_type": "markdown",
   "id": "646ed846-15e9-4751-aec2-830b43bfde47",
   "metadata": {},
   "source": [
    "Step-1: Acquiring dataset and importing all the essential libraries"
   ]
  },
  {
   "cell_type": "code",
   "execution_count": 44,
   "id": "2e6a1e48-f399-4b84-8609-e0dc7d110218",
   "metadata": {},
   "outputs": [],
   "source": [
    "import numpy as np \n",
    "import pandas as pd \n",
    "import matplotlib.pyplot as plt \n",
    "import seaborn as sns \n",
    "from sklearn.feature_selection import chi2 \n",
    "from sklearn.model_selection import train_test_split \n",
    "df=pd.read_csv(\"https://raw.githubusercontent.com/srivatsan88/YouTubeLI/master/dataset/churn_data_st.csv\")"
   ]
  },
  {
   "cell_type": "markdown",
   "id": "a8d956b0-5667-4b8e-86e4-c7bbffde36ee",
   "metadata": {},
   "source": [
    "Step-2: Show a preview of the dataset"
   ]
  },
  {
   "cell_type": "code",
   "execution_count": 45,
   "id": "f7067432-326b-4f5f-826e-7db8bfc8a09e",
   "metadata": {},
   "outputs": [
    {
     "data": {
      "text/html": [
       "<div>\n",
       "<style scoped>\n",
       "    .dataframe tbody tr th:only-of-type {\n",
       "        vertical-align: middle;\n",
       "    }\n",
       "\n",
       "    .dataframe tbody tr th {\n",
       "        vertical-align: top;\n",
       "    }\n",
       "\n",
       "    .dataframe thead th {\n",
       "        text-align: right;\n",
       "    }\n",
       "</style>\n",
       "<table border=\"1\" class=\"dataframe\">\n",
       "  <thead>\n",
       "    <tr style=\"text-align: right;\">\n",
       "      <th></th>\n",
       "      <th>customerID</th>\n",
       "      <th>gender</th>\n",
       "      <th>SeniorCitizen</th>\n",
       "      <th>tenure</th>\n",
       "      <th>ServiceCount</th>\n",
       "      <th>Contract</th>\n",
       "      <th>PaperlessBilling</th>\n",
       "      <th>MonthlyCharges</th>\n",
       "      <th>TotalCharges</th>\n",
       "      <th>Churn</th>\n",
       "    </tr>\n",
       "  </thead>\n",
       "  <tbody>\n",
       "    <tr>\n",
       "      <th>0</th>\n",
       "      <td>7590-VHVEG</td>\n",
       "      <td>Female</td>\n",
       "      <td>0</td>\n",
       "      <td>1</td>\n",
       "      <td>2</td>\n",
       "      <td>Month-to-month</td>\n",
       "      <td>Yes</td>\n",
       "      <td>29.85</td>\n",
       "      <td>29.85</td>\n",
       "      <td>No</td>\n",
       "    </tr>\n",
       "    <tr>\n",
       "      <th>1</th>\n",
       "      <td>5575-GNVDE</td>\n",
       "      <td>Male</td>\n",
       "      <td>0</td>\n",
       "      <td>34</td>\n",
       "      <td>4</td>\n",
       "      <td>One year</td>\n",
       "      <td>No</td>\n",
       "      <td>56.95</td>\n",
       "      <td>1889.50</td>\n",
       "      <td>No</td>\n",
       "    </tr>\n",
       "    <tr>\n",
       "      <th>2</th>\n",
       "      <td>3668-QPYBK</td>\n",
       "      <td>Male</td>\n",
       "      <td>0</td>\n",
       "      <td>2</td>\n",
       "      <td>4</td>\n",
       "      <td>Month-to-month</td>\n",
       "      <td>Yes</td>\n",
       "      <td>53.85</td>\n",
       "      <td>108.15</td>\n",
       "      <td>Yes</td>\n",
       "    </tr>\n",
       "    <tr>\n",
       "      <th>3</th>\n",
       "      <td>7795-CFOCW</td>\n",
       "      <td>Male</td>\n",
       "      <td>0</td>\n",
       "      <td>45</td>\n",
       "      <td>4</td>\n",
       "      <td>One year</td>\n",
       "      <td>No</td>\n",
       "      <td>42.30</td>\n",
       "      <td>1840.75</td>\n",
       "      <td>No</td>\n",
       "    </tr>\n",
       "    <tr>\n",
       "      <th>4</th>\n",
       "      <td>9237-HQITU</td>\n",
       "      <td>Female</td>\n",
       "      <td>0</td>\n",
       "      <td>2</td>\n",
       "      <td>2</td>\n",
       "      <td>Month-to-month</td>\n",
       "      <td>Yes</td>\n",
       "      <td>70.70</td>\n",
       "      <td>151.65</td>\n",
       "      <td>Yes</td>\n",
       "    </tr>\n",
       "  </tbody>\n",
       "</table>\n",
       "</div>"
      ],
      "text/plain": [
       "   customerID  gender  SeniorCitizen  tenure  ServiceCount        Contract  \\\n",
       "0  7590-VHVEG  Female              0       1             2  Month-to-month   \n",
       "1  5575-GNVDE    Male              0      34             4        One year   \n",
       "2  3668-QPYBK    Male              0       2             4  Month-to-month   \n",
       "3  7795-CFOCW    Male              0      45             4        One year   \n",
       "4  9237-HQITU  Female              0       2             2  Month-to-month   \n",
       "\n",
       "  PaperlessBilling  MonthlyCharges  TotalCharges Churn  \n",
       "0              Yes           29.85         29.85    No  \n",
       "1               No           56.95       1889.50    No  \n",
       "2              Yes           53.85        108.15   Yes  \n",
       "3               No           42.30       1840.75    No  \n",
       "4              Yes           70.70        151.65   Yes  "
      ]
     },
     "execution_count": 45,
     "metadata": {},
     "output_type": "execute_result"
    }
   ],
   "source": [
    "df.head()"
   ]
  },
  {
   "cell_type": "markdown",
   "id": "bad66448-a39a-4f36-9591-2c68027adbaa",
   "metadata": {},
   "source": [
    "Step-3: Feature Encoding"
   ]
  },
  {
   "cell_type": "code",
   "execution_count": 46,
   "id": "bb0b1c3b-541c-4df9-a29d-eec1db0b1a1c",
   "metadata": {},
   "outputs": [
    {
     "data": {
      "text/plain": [
       "customerID           object\n",
       "gender               object\n",
       "SeniorCitizen         int64\n",
       "tenure                int64\n",
       "ServiceCount          int64\n",
       "Contract             object\n",
       "PaperlessBilling     object\n",
       "MonthlyCharges      float64\n",
       "TotalCharges        float64\n",
       "Churn                object\n",
       "dtype: object"
      ]
     },
     "execution_count": 46,
     "metadata": {},
     "output_type": "execute_result"
    }
   ],
   "source": [
    "#a. Extract all the features which has categorical variables\n",
    "df.dtypes"
   ]
  },
  {
   "cell_type": "code",
   "execution_count": 47,
   "id": "e6db36eb-115d-40cc-8cc1-54f57fdaed24",
   "metadata": {},
   "outputs": [
    {
     "data": {
      "text/html": [
       "<div>\n",
       "<style scoped>\n",
       "    .dataframe tbody tr th:only-of-type {\n",
       "        vertical-align: middle;\n",
       "    }\n",
       "\n",
       "    .dataframe tbody tr th {\n",
       "        vertical-align: top;\n",
       "    }\n",
       "\n",
       "    .dataframe thead th {\n",
       "        text-align: right;\n",
       "    }\n",
       "</style>\n",
       "<table border=\"1\" class=\"dataframe\">\n",
       "  <thead>\n",
       "    <tr style=\"text-align: right;\">\n",
       "      <th></th>\n",
       "      <th>gender</th>\n",
       "      <th>Contract</th>\n",
       "      <th>PaperlessBilling</th>\n",
       "      <th>Churn</th>\n",
       "    </tr>\n",
       "  </thead>\n",
       "  <tbody>\n",
       "    <tr>\n",
       "      <th>0</th>\n",
       "      <td>1</td>\n",
       "      <td>0</td>\n",
       "      <td>0</td>\n",
       "      <td>No</td>\n",
       "    </tr>\n",
       "    <tr>\n",
       "      <th>1</th>\n",
       "      <td>0</td>\n",
       "      <td>1</td>\n",
       "      <td>1</td>\n",
       "      <td>No</td>\n",
       "    </tr>\n",
       "    <tr>\n",
       "      <th>2</th>\n",
       "      <td>0</td>\n",
       "      <td>0</td>\n",
       "      <td>0</td>\n",
       "      <td>Yes</td>\n",
       "    </tr>\n",
       "    <tr>\n",
       "      <th>3</th>\n",
       "      <td>0</td>\n",
       "      <td>1</td>\n",
       "      <td>1</td>\n",
       "      <td>No</td>\n",
       "    </tr>\n",
       "    <tr>\n",
       "      <th>4</th>\n",
       "      <td>1</td>\n",
       "      <td>0</td>\n",
       "      <td>0</td>\n",
       "      <td>Yes</td>\n",
       "    </tr>\n",
       "  </tbody>\n",
       "</table>\n",
       "</div>"
      ],
      "text/plain": [
       "   gender  Contract  PaperlessBilling Churn\n",
       "0       1         0                 0    No\n",
       "1       0         1                 1    No\n",
       "2       0         0                 0   Yes\n",
       "3       0         1                 1    No\n",
       "4       1         0                 0   Yes"
      ]
     },
     "execution_count": 47,
     "metadata": {},
     "output_type": "execute_result"
    }
   ],
   "source": [
    "#b. Extract all the features having categorical variable and then will do feature encoding on all of them.\n",
    "df[\"gender\"]=df[\"gender\"].map({\"Female\":1,\"Male\":0})\n",
    "df[\"Contract\"]=df[\"Contract\"].map({'Month-to-month':0, 'One year':1, 'Two year':2}) \n",
    "df[\"PaperlessBilling\"]=df[\"PaperlessBilling\"].map({\"Yes\":0,\"No\":1}) \n",
    "\n",
    "#select needed columns \n",
    "cat_df=df[[\"gender\",\"Contract\",\"PaperlessBilling\",\"Churn\"]] \n",
    "cat_df.head()"
   ]
  },
  {
   "cell_type": "markdown",
   "id": "04fd0a14-b6b0-4b5b-8f62-f51ee207aa68",
   "metadata": {},
   "source": [
    "Step 4 : Applying Chi Squared test"
   ]
  },
  {
   "cell_type": "code",
   "execution_count": 48,
   "id": "122c4418-7cf3-470a-b071-873fd9014ba3",
   "metadata": {},
   "outputs": [
    {
     "data": {
      "text/plain": [
       "Contract            1.227941e-244\n",
       "PaperlessBilling     3.008474e-35\n",
       "gender               6.076114e-01\n",
       "dtype: float64"
      ]
     },
     "execution_count": 48,
     "metadata": {},
     "output_type": "execute_result"
    }
   ],
   "source": [
    "#Independent variable \n",
    "x=cat_df.iloc[:,:-1] \n",
    "\n",
    "#Target variable \n",
    "y=cat_df.iloc[:,-1] \n",
    "#returns f score and p value \n",
    "f_score=chi2(x,y) \n",
    "f_score \n",
    "\n",
    "p_value=pd.Series(f_score[1],index=x.columns) \n",
    "p_value.sort_values(ascending=True)"
   ]
  },
  {
   "cell_type": "code",
   "execution_count": 49,
   "id": "dcf51296-7507-41ca-991c-0b40ee1590ea",
   "metadata": {},
   "outputs": [
    {
     "data": {
      "image/png": "[encoded data removed]",
      "text/plain": [
       "<Figure size 640x480 with 1 Axes>"
      ]
     },
     "metadata": {},
     "output_type": "display_data"
    }
   ],
   "source": [
    "p_value.plot(kind=\"bar\") \n",
    "plt.xlabel(\"Features\",fontsize=20) \n",
    "plt.ylabel(\"p_values\",fontsize=20) \n",
    "plt.title(\"chi squared test base on p value\") \n",
    "plt.show()"
   ]
  },
  {
   "cell_type": "markdown",
   "id": "0ad8699b-b2f3-4362-9e81-a63d70bc3099",
   "metadata": {},
   "source": [
    "# Exercise"
   ]
  },
  {
   "cell_type": "code",
   "execution_count": 52,
   "id": "8a2dd364-ed95-4fd1-8378-56a589337058",
   "metadata": {},
   "outputs": [],
   "source": [
    "import pandas as pd\n",
    "import numpy as np\n",
    "import matplotlib.pyplot as plt\n",
    "from datetime import datetime"
   ]
  },
  {
   "cell_type": "code",
   "execution_count": 53,
   "id": "297ae651-0c2e-4bf3-a0b2-0b9d4a7442d7",
   "metadata": {},
   "outputs": [],
   "source": [
    "exercise_data = pd.read_csv(\"Building_permits.csv\", low_memory=False)\n"
   ]
  },
  {
   "cell_type": "code",
   "execution_count": 54,
   "id": "f0eb1f22-2811-4010-9252-1eb1e9da49d9",
   "metadata": {},
   "outputs": [
    {
     "data": {
      "text/html": [
       "<div>\n",
       "<style scoped>\n",
       "    .dataframe tbody tr th:only-of-type {\n",
       "        vertical-align: middle;\n",
       "    }\n",
       "\n",
       "    .dataframe tbody tr th {\n",
       "        vertical-align: top;\n",
       "    }\n",
       "\n",
       "    .dataframe thead th {\n",
       "        text-align: right;\n",
       "    }\n",
       "</style>\n",
       "<table border=\"1\" class=\"dataframe\">\n",
       "  <thead>\n",
       "    <tr style=\"text-align: right;\">\n",
       "      <th></th>\n",
       "      <th>Permit Number</th>\n",
       "      <th>Permit Type</th>\n",
       "      <th>Permit Type Definition</th>\n",
       "      <th>Permit Creation Date</th>\n",
       "      <th>Block</th>\n",
       "      <th>Lot</th>\n",
       "      <th>Street Number</th>\n",
       "      <th>Street Number Suffix</th>\n",
       "      <th>Street Name</th>\n",
       "      <th>Street Suffix</th>\n",
       "      <th>...</th>\n",
       "      <th>Existing Construction Type</th>\n",
       "      <th>Existing Construction Type Description</th>\n",
       "      <th>Proposed Construction Type</th>\n",
       "      <th>Proposed Construction Type Description</th>\n",
       "      <th>Site Permit</th>\n",
       "      <th>Supervisor District</th>\n",
       "      <th>Neighborhoods - Analysis Boundaries</th>\n",
       "      <th>Zipcode</th>\n",
       "      <th>Location</th>\n",
       "      <th>Record ID</th>\n",
       "    </tr>\n",
       "  </thead>\n",
       "  <tbody>\n",
       "    <tr>\n",
       "      <th>0</th>\n",
       "      <td>2.01505E+11</td>\n",
       "      <td>4</td>\n",
       "      <td>sign - erect</td>\n",
       "      <td>5/6/2015</td>\n",
       "      <td>326</td>\n",
       "      <td>23</td>\n",
       "      <td>140</td>\n",
       "      <td>NaN</td>\n",
       "      <td>Ellis</td>\n",
       "      <td>St</td>\n",
       "      <td>...</td>\n",
       "      <td>3.0</td>\n",
       "      <td>constr type 3</td>\n",
       "      <td>NaN</td>\n",
       "      <td>NaN</td>\n",
       "      <td>NaN</td>\n",
       "      <td>3.0</td>\n",
       "      <td>Tenderloin</td>\n",
       "      <td>94102.0</td>\n",
       "      <td>(37.785719256680785, -122.40852313194863)</td>\n",
       "      <td>1.380610e+12</td>\n",
       "    </tr>\n",
       "    <tr>\n",
       "      <th>1</th>\n",
       "      <td>2.01604E+11</td>\n",
       "      <td>4</td>\n",
       "      <td>sign - erect</td>\n",
       "      <td>4/19/2016</td>\n",
       "      <td>306</td>\n",
       "      <td>7</td>\n",
       "      <td>440</td>\n",
       "      <td>NaN</td>\n",
       "      <td>Geary</td>\n",
       "      <td>St</td>\n",
       "      <td>...</td>\n",
       "      <td>3.0</td>\n",
       "      <td>constr type 3</td>\n",
       "      <td>NaN</td>\n",
       "      <td>NaN</td>\n",
       "      <td>NaN</td>\n",
       "      <td>3.0</td>\n",
       "      <td>Tenderloin</td>\n",
       "      <td>94102.0</td>\n",
       "      <td>(37.78733980600732, -122.41063199757738)</td>\n",
       "      <td>1.420160e+12</td>\n",
       "    </tr>\n",
       "    <tr>\n",
       "      <th>2</th>\n",
       "      <td>2.01605E+11</td>\n",
       "      <td>3</td>\n",
       "      <td>additions alterations or repairs</td>\n",
       "      <td>5/27/2016</td>\n",
       "      <td>595</td>\n",
       "      <td>203</td>\n",
       "      <td>1647</td>\n",
       "      <td>NaN</td>\n",
       "      <td>Pacific</td>\n",
       "      <td>Av</td>\n",
       "      <td>...</td>\n",
       "      <td>1.0</td>\n",
       "      <td>constr type 1</td>\n",
       "      <td>1.0</td>\n",
       "      <td>constr type 1</td>\n",
       "      <td>NaN</td>\n",
       "      <td>3.0</td>\n",
       "      <td>Russian Hill</td>\n",
       "      <td>94109.0</td>\n",
       "      <td>(37.7946573324287, -122.42232562979227)</td>\n",
       "      <td>1.424860e+12</td>\n",
       "    </tr>\n",
       "    <tr>\n",
       "      <th>3</th>\n",
       "      <td>2.01611E+11</td>\n",
       "      <td>8</td>\n",
       "      <td>otc alterations permit</td>\n",
       "      <td>11/7/2016</td>\n",
       "      <td>156</td>\n",
       "      <td>11</td>\n",
       "      <td>1230</td>\n",
       "      <td>NaN</td>\n",
       "      <td>Pacific</td>\n",
       "      <td>Av</td>\n",
       "      <td>...</td>\n",
       "      <td>5.0</td>\n",
       "      <td>wood frame (5)</td>\n",
       "      <td>5.0</td>\n",
       "      <td>wood frame (5)</td>\n",
       "      <td>NaN</td>\n",
       "      <td>3.0</td>\n",
       "      <td>Nob Hill</td>\n",
       "      <td>94109.0</td>\n",
       "      <td>(37.79595867909168, -122.41557405519474)</td>\n",
       "      <td>1.443570e+12</td>\n",
       "    </tr>\n",
       "    <tr>\n",
       "      <th>4</th>\n",
       "      <td>2.01611E+11</td>\n",
       "      <td>6</td>\n",
       "      <td>demolitions</td>\n",
       "      <td>11/28/2016</td>\n",
       "      <td>342</td>\n",
       "      <td>1</td>\n",
       "      <td>950</td>\n",
       "      <td>NaN</td>\n",
       "      <td>Market</td>\n",
       "      <td>St</td>\n",
       "      <td>...</td>\n",
       "      <td>3.0</td>\n",
       "      <td>constr type 3</td>\n",
       "      <td>NaN</td>\n",
       "      <td>NaN</td>\n",
       "      <td>NaN</td>\n",
       "      <td>6.0</td>\n",
       "      <td>Tenderloin</td>\n",
       "      <td>94102.0</td>\n",
       "      <td>(37.78315261897309, -122.40950883997789)</td>\n",
       "      <td>1.445480e+11</td>\n",
       "    </tr>\n",
       "  </tbody>\n",
       "</table>\n",
       "<p>5 rows × 43 columns</p>\n",
       "</div>"
      ],
      "text/plain": [
       "  Permit Number  Permit Type            Permit Type Definition  \\\n",
       "0   2.01505E+11            4                      sign - erect   \n",
       "1   2.01604E+11            4                      sign - erect   \n",
       "2   2.01605E+11            3  additions alterations or repairs   \n",
       "3   2.01611E+11            8            otc alterations permit   \n",
       "4   2.01611E+11            6                       demolitions   \n",
       "\n",
       "  Permit Creation Date Block  Lot  Street Number Street Number Suffix  \\\n",
       "0             5/6/2015   326   23            140                  NaN   \n",
       "1            4/19/2016   306    7            440                  NaN   \n",
       "2            5/27/2016   595  203           1647                  NaN   \n",
       "3            11/7/2016   156   11           1230                  NaN   \n",
       "4           11/28/2016   342    1            950                  NaN   \n",
       "\n",
       "  Street Name Street Suffix  ...  Existing Construction Type  \\\n",
       "0       Ellis            St  ...                         3.0   \n",
       "1       Geary            St  ...                         3.0   \n",
       "2     Pacific            Av  ...                         1.0   \n",
       "3     Pacific            Av  ...                         5.0   \n",
       "4      Market            St  ...                         3.0   \n",
       "\n",
       "  Existing Construction Type Description Proposed Construction Type  \\\n",
       "0                          constr type 3                        NaN   \n",
       "1                          constr type 3                        NaN   \n",
       "2                          constr type 1                        1.0   \n",
       "3                         wood frame (5)                        5.0   \n",
       "4                          constr type 3                        NaN   \n",
       "\n",
       "  Proposed Construction Type Description Site Permit Supervisor District  \\\n",
       "0                                    NaN         NaN                 3.0   \n",
       "1                                    NaN         NaN                 3.0   \n",
       "2                          constr type 1         NaN                 3.0   \n",
       "3                         wood frame (5)         NaN                 3.0   \n",
       "4                                    NaN         NaN                 6.0   \n",
       "\n",
       "  Neighborhoods - Analysis Boundaries  Zipcode  \\\n",
       "0                          Tenderloin  94102.0   \n",
       "1                          Tenderloin  94102.0   \n",
       "2                        Russian Hill  94109.0   \n",
       "3                            Nob Hill  94109.0   \n",
       "4                          Tenderloin  94102.0   \n",
       "\n",
       "                                    Location     Record ID  \n",
       "0  (37.785719256680785, -122.40852313194863)  1.380610e+12  \n",
       "1   (37.78733980600732, -122.41063199757738)  1.420160e+12  \n",
       "2    (37.7946573324287, -122.42232562979227)  1.424860e+12  \n",
       "3   (37.79595867909168, -122.41557405519474)  1.443570e+12  \n",
       "4   (37.78315261897309, -122.40950883997789)  1.445480e+11  \n",
       "\n",
       "[5 rows x 43 columns]"
      ]
     },
     "execution_count": 54,
     "metadata": {},
     "output_type": "execute_result"
    }
   ],
   "source": [
    "exercise_data.head()"
   ]
  },
  {
   "cell_type": "code",
   "execution_count": 55,
   "id": "2140d69a-6936-4cf5-8546-fd1485badaf5",
   "metadata": {},
   "outputs": [
    {
     "data": {
      "text/plain": [
       "(17647, 43)"
      ]
     },
     "execution_count": 55,
     "metadata": {},
     "output_type": "execute_result"
    }
   ],
   "source": [
    "exercise_data.shape"
   ]
  },
  {
   "cell_type": "code",
   "execution_count": 66,
   "id": "f69e28e1-84f4-4b21-9c65-0af82e7dd19b",
   "metadata": {},
   "outputs": [],
   "source": [
    "# Step 1: Remove columns with more than 20% missing data\n",
    "threshold = 0.2  # 20%\n",
    "df = df.loc[:, df.isnull().mean() < threshold]"
   ]
  },
  {
   "cell_type": "code",
   "execution_count": 67,
   "id": "3c006764-2769-4934-89a3-4a44f5049c7d",
   "metadata": {},
   "outputs": [
    {
     "data": {
      "text/plain": [
       "(17647, 43)"
      ]
     },
     "execution_count": 67,
     "metadata": {},
     "output_type": "execute_result"
    }
   ],
   "source": [
    "exercise_data.shape"
   ]
  },
  {
   "cell_type": "code",
   "execution_count": 68,
   "id": "50c32295-9a0b-4dc5-a0e6-46664fc59e9d",
   "metadata": {},
   "outputs": [],
   "source": [
    "# Step 2: Remove irrelevant columns\n",
    "\n",
    "irrelevant_cols = [\n",
    "    \"Current Status Date\",\n",
    "    \"Description\",\n",
    "    \"Zipcode\",\n",
    "    \"Block\",\n",
    "    \"Lot\",\n",
    "    \"Supervisor District\",\n",
    "    \"Neighborhoods - Analysis Boundaries\",\n",
    "    \"Existing Construction Type\",\n",
    "    \"Existing Construction Type Description\",\n",
    "    \"Number of Existing Stories\",\n",
    "    \"Location\"\n",
    "]\n",
    "\n",
    "df = df.drop(columns=[col for col in irrelevant_cols if col in df.columns])"
   ]
  },
  {
   "cell_type": "code",
   "execution_count": 69,
   "id": "01052ae9-4faf-40f4-b410-dd938e4ff6bf",
   "metadata": {},
   "outputs": [],
   "source": [
    "# Step 3: Replace numeric columns with mean\n",
    "# -----------------------------\n",
    "numeric_cols = [\"Estimated Cost\", \"Revised Cost\", \"Number of Proposed Stories\"]\n",
    "\n",
    "for col in numeric_cols:\n",
    "    if col in df.columns:\n",
    "        df[col] = df[col].fillna(df[col].mean())"
   ]
  },
  {
   "cell_type": "code",
   "execution_count": 70,
   "id": "f3f5a4c7-7a8b-450f-a438-c7a9e64f9180",
   "metadata": {},
   "outputs": [],
   "source": [
    "# Step 4: Replace missing values with 'unknown'\n",
    "# -----------------------------\n",
    "text_cols = [\n",
    "    \"Street Suffix\",\n",
    "    \"Existing Use\",\n",
    "    \"Proposed Use\",\n",
    "    \"Plansets\",\n",
    "    \"Proposed Construction Type\",\n",
    "    \"Proposed Construction Type Description\"\n",
    "]\n",
    "\n",
    "for col in text_cols:\n",
    "    if col in df.columns:\n",
    "        df[col] = df[col].fillna(\"unknown\")\n"
   ]
  },
  {
   "cell_type": "code",
   "execution_count": 71,
   "id": "e8fc4a6c-36a6-497a-b60c-ae432cc4e080",
   "metadata": {},
   "outputs": [],
   "source": [
    "# Step 5: Replace missing date values with today\n",
    "# -----------------------------\n",
    "date_cols = [\"Issued Date\", \"First Construction Document Date\"]\n",
    "today = pd.to_datetime(datetime.today().date())\n",
    "\n",
    "for col in date_cols:\n",
    "    if col in df.columns:\n",
    "        df[col] = pd.to_datetime(df[col], errors=\"coerce\")  # convert to datetime first\n",
    "        df[col] = df[col].fillna(today)\n"
   ]
  },
  {
   "cell_type": "code",
   "execution_count": 72,
   "id": "f28893a7-fdcc-4088-ab93-cc236dd68ef9",
   "metadata": {},
   "outputs": [],
   "source": [
    "# Step 6: Visualization - Estimated Cost (Pie Chart)\n",
    "# -----------------------------\n",
    "if \"Estimated Cost\" in df.columns:\n",
    "    # Create cost ranges\n",
    "    bins = [0, 10000, 50000, 100000, 500000, 1000000, df[\"Estimated Cost\"].max()]\n",
    "    labels = [\"<10k\", \"10k-50k\", \"50k-100k\", \"100k-500k\", \"500k-1M\", \">1M\"]\n",
    "    \n",
    "    df[\"Cost Range\"] = pd.cut(df[\"Estimated Cost\"], bins=bins, labels=labels, include_lowest=True)\n",
    "\n",
    "    cost_counts = df[\"Cost Range\"].value_counts().sort_index()\n",
    "    \n",
    "    plt.figure(figsize=(7,7))\n",
    "    plt.pie(cost_counts, labels=cost_counts.index, autopct=\"%1.1f%%\", startangle=90)\n",
    "    plt.title(\"Distribution of Estimated Cost\")\n",
    "    plt.show()"
   ]
  },
  {
   "cell_type": "code",
   "execution_count": 73,
   "id": "4dd7255a-d2fd-4217-a2e4-b475fa6fe0c1",
   "metadata": {},
   "outputs": [],
   "source": [
    "# Step 7: Visualization - Existing Use (Bar Chart)\n",
    "# -----------------------------\n",
    "if \"Existing Use\" in df.columns:\n",
    "    plt.figure(figsize=(10,6))\n",
    "    df[\"Existing Use\"].value_counts().plot(kind=\"bar\")\n",
    "    plt.title(\"Distribution of Existing Use of Permits\")\n",
    "    plt.xlabel(\"Existing Use\")\n",
    "    plt.ylabel(\"Count\")\n",
    "    plt.xticks(rotation=45, ha=\"right\")\n",
    "    plt.show()"
   ]
  }
 ],
 "metadata": {
  "kernelspec": {
   "display_name": "Python 3 (ipykernel)",
   "language": "python",
   "name": "python3"
  },
  "language_info": {
   "codemirror_mode": {
    "name": "ipython",
    "version": 3
   },
   "file_extension": ".py",
   "mimetype": "text/x-python",
   "name": "python",
   "nbconvert_exporter": "python",
   "pygments_lexer": "ipython3",
   "version": "3.13.3"
  }
 },
 "nbformat": 4,
 "nbformat_minor": 5
}
